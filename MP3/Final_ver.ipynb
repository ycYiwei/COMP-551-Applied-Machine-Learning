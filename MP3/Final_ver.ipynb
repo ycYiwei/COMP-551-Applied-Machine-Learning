{
  "nbformat": 4,
  "nbformat_minor": 0,
  "metadata": {
    "colab": {
      "name": "Final ver",
      "provenance": [],
      "collapsed_sections": [
        "0u6MEDaipV_M",
        "mdddS_NiaAvi"
      ],
      "toc_visible": true
    },
    "kernelspec": {
      "name": "python3",
      "display_name": "Python 3"
    },
    "language_info": {
      "name": "python"
    }
  },
  "cells": [
    {
      "cell_type": "markdown",
      "source": [
        "# Task 1. Acquire the Data"
      ],
      "metadata": {
        "id": "0u6MEDaipV_M"
      }
    },
    {
      "cell_type": "code",
      "execution_count": null,
      "metadata": {
        "id": "NI-Qb9tKorXk"
      },
      "outputs": [],
      "source": [
        "# importing libraries\n",
        "import pandas as pd\n",
        "import numpy as np\n",
        "import matplotlib.pyplot as plt\n",
        "import matplotlib.image as mpimg\n",
        "import seaborn as sns\n",
        "\n",
        "#import warnings\n",
        "#warnings.filterwarnings(\"error\")\n"
      ]
    },
    {
      "cell_type": "code",
      "source": [
        "!pip install keras"
      ],
      "metadata": {
        "colab": {
          "base_uri": "https://localhost:8080/"
        },
        "id": "DJAKL3geEnbQ",
        "outputId": "12dbfc7d-a30d-4ff0-c2e6-ede1ef235fe7"
      },
      "execution_count": null,
      "outputs": [
        {
          "output_type": "stream",
          "name": "stdout",
          "text": [
            "Requirement already satisfied: keras in /usr/local/lib/python3.7/dist-packages (2.8.0)\n"
          ]
        }
      ]
    },
    {
      "cell_type": "code",
      "source": [
        "# using keras to load the train and test data from Fashion-MNIST\n",
        "from keras.datasets import fashion_mnist\n",
        "\n",
        "(x_train, y_train), (x_test, y_test) = fashion_mnist.load_data()\n",
        "# check if they are of the correct shape, if not, AssertionError would be raised\n",
        "assert x_train.shape == (60000, 28, 28)\n",
        "assert x_test.shape == (10000, 28, 28)\n",
        "assert y_train.shape == (60000,)\n",
        "assert y_test.shape == (10000,)\n"
      ],
      "metadata": {
        "id": "KPZR9zk5D-y7",
        "colab": {
          "base_uri": "https://localhost:8080/"
        },
        "outputId": "df31a47c-3ccc-4c6d-ccc0-ddb7ae827174"
      },
      "execution_count": null,
      "outputs": [
        {
          "output_type": "stream",
          "name": "stdout",
          "text": [
            "Downloading data from https://storage.googleapis.com/tensorflow/tf-keras-datasets/train-labels-idx1-ubyte.gz\n",
            "32768/29515 [=================================] - 0s 0us/step\n",
            "40960/29515 [=========================================] - 0s 0us/step\n",
            "Downloading data from https://storage.googleapis.com/tensorflow/tf-keras-datasets/train-images-idx3-ubyte.gz\n",
            "26427392/26421880 [==============================] - 0s 0us/step\n",
            "26435584/26421880 [==============================] - 0s 0us/step\n",
            "Downloading data from https://storage.googleapis.com/tensorflow/tf-keras-datasets/t10k-labels-idx1-ubyte.gz\n",
            "16384/5148 [===============================================================================================] - 0s 0us/step\n",
            "Downloading data from https://storage.googleapis.com/tensorflow/tf-keras-datasets/t10k-images-idx3-ubyte.gz\n",
            "4423680/4422102 [==============================] - 0s 0us/step\n",
            "4431872/4422102 [==============================] - 0s 0us/step\n"
          ]
        }
      ]
    },
    {
      "cell_type": "code",
      "source": [
        "# visualize the data\n",
        "# we display the first 5 mages in the training set\n",
        "for i in range(5):\n",
        "  plt.figure()\n",
        "  plt.imshow(x_train[i])\n"
      ],
      "metadata": {
        "id": "wXnySDykFdSa",
        "colab": {
          "base_uri": "https://localhost:8080/"
        },
        "outputId": "015e0e7a-2aca-4115-8ad4-67170cd3896e"
      },
      "execution_count": null,
      "outputs": [
        {
          "output_type": "display_data",
          "data": {
            "text/plain": [
              "<Figure size 432x288 with 1 Axes>"
            ],
            "image/png": "[encoded data removed]"
          },
          "metadata": {
            "needs_background": "light"
          }
        },
        {
          "output_type": "display_data",
          "data": {
            "text/plain": [
              "<Figure size 432x288 with 1 Axes>"
            ],
            "image/png": "[encoded data removed]"
          },
          "metadata": {
            "needs_background": "light"
          }
        },
        {
          "output_type": "display_data",
          "data": {
            "text/plain": [
              "<Figure size 432x288 with 1 Axes>"
            ],
            "image/png": "[encoded data removed]"
          },
          "metadata": {
            "needs_background": "light"
          }
        },
        {
          "output_type": "display_data",
          "data": {
            "text/plain": [
              "<Figure size 432x288 with 1 Axes>"
            ],
            "image/png": "[encoded data removed]"
          },
          "metadata": {
            "needs_background": "light"
          }
        },
        {
          "output_type": "display_data",
          "data": {
            "text/plain": [
              "<Figure size 432x288 with 1 Axes>"
            ],
            "image/png": "[encoded data removed]"
          },
          "metadata": {
            "needs_background": "light"
          }
        }
      ]
    },
    {
      "cell_type": "markdown",
      "source": [
        "Data Preprocessing"
      ],
      "metadata": {
        "id": "gEI36B-gP5nB"
      }
    },
    {
      "cell_type": "code",
      "source": [
        "# vectorize data\n",
        "# train \n",
        "print(f\"x_train shape before vectorization: {x_train.shape}\")\n",
        "x_train = x_train.reshape(60000,784)\n",
        "print(f\"x_train shape after vectorization: {x_train.shape}\\n\")\n",
        "print(f\"y_train shape before vectorization: {y_train.shape}\")\n",
        "y_train = y_train.reshape(60000,1)\n",
        "print(f\"y_train shape after vectorization: {y_train.shape}\\n\")\n",
        "\n",
        "# test\n",
        "print(f\"x_test shape before vectorization: {x_test.shape}\")\n",
        "x_test = x_test.reshape(10000,784)\n",
        "print(f\"x_test shape after vectorization: {x_test.shape}\\n\")\n",
        "print(f\"y_test shape before vectorization: {y_test.shape}\")\n",
        "y_test = y_test.reshape(10000,1)\n",
        "print(f\"y_test shape after vectorization: {y_test.shape}\")"
      ],
      "metadata": {
        "colab": {
          "base_uri": "https://localhost:8080/"
        },
        "id": "78v3IBALISOP",
        "outputId": "67ba596b-9d7f-4e68-acdd-424519e6b54f"
      },
      "execution_count": null,
      "outputs": [
        {
          "output_type": "stream",
          "name": "stdout",
          "text": [
            "x_train shape before vectorization: (60000, 28, 28)\n",
            "x_train shape after vectorization: (60000, 784)\n",
            "\n",
            "y_train shape before vectorization: (60000,)\n",
            "y_train shape after vectorization: (60000, 1)\n",
            "\n",
            "x_test shape before vectorization: (10000, 28, 28)\n",
            "x_test shape after vectorization: (10000, 784)\n",
            "\n",
            "y_test shape before vectorization: (10000,)\n",
            "y_test shape after vectorization: (10000, 1)\n"
          ]
        }
      ]
    },
    {
      "cell_type": "code",
      "source": [
        "classes, counts = np.unique(y_test, return_counts=True)\n",
        "print(classes)\n",
        "\n",
        "classes, counts = np.unique(y_train, return_counts=True)\n",
        "print(classes)"
      ],
      "metadata": {
        "colab": {
          "base_uri": "https://localhost:8080/"
        },
        "id": "rFVTF0scMsze",
        "outputId": "db228e32-a3a7-4f7a-e61e-a21b0b12eeaf"
      },
      "execution_count": null,
      "outputs": [
        {
          "output_type": "stream",
          "name": "stdout",
          "text": [
            "[0 1 2 3 4 5 6 7 8 9]\n",
            "[0 1 2 3 4 5 6 7 8 9]\n"
          ]
        }
      ]
    },
    {
      "cell_type": "code",
      "source": [
        "# data normalization \n",
        "\n",
        "# mean subtraction + standard deviation division \n",
        "x_train_zero_centred = x_train - np.mean(x_train, axis=0)\n",
        "x_train_zero_centred = x_train_zero_centred / np.std(x_train, axis=0)\n",
        "x_test_zero_centred = x_test - np.mean(x_test, axis=0)\n",
        "x_test_zero_centred = x_test_zero_centred / np.std(x_test, axis=0)\n",
        "\n",
        "\n",
        "# PCA\n",
        "cov = np.dot(x_train_zero_centred.T, x_train_zero_centred) / x_train_zero_centred.shape[0]\n",
        "U,S,V = np.linalg.svd(cov)\n",
        "x_train_PCA = np.dot(x_train_zero_centred, U)\n",
        "x_train_PCA_reduced = np.dot(x_train_zero_centred, U[:,:100]) # x_train_PCA becomes size [N x 100]\n",
        "x_train_PCA_reduced_inverted = np.dot(x_train_PCA_reduced, U[:,:100].T)\n",
        "# After the above, we would have reduced the original dataset of size [N x D] to one of size [N x 100], keeping the 100 dimensions of the data that contain the most variance.\n",
        "cov_test = np.dot(x_test_zero_centred.T, x_test_zero_centred) / x_test_zero_centred.shape[0]\n",
        "U_test,S_test,V_test = np.linalg.svd(cov_test)\n",
        "x_test_PCA = np.dot(x_test_zero_centred, U_test)\n",
        "x_test_PCA_reduced = np.dot(x_test_zero_centred, U[:,:100]) # x_train_PCA becomes size [N x 100]\n",
        "# x_train_PCA_reduced_inverted = np.dot(x_train_PCA_reduced, U[:,:100].T)\n",
        "\n",
        "\n",
        "# Whitening \n",
        "x_train_white = x_train_PCA / np.sqrt(S + 1e-5)\n",
        "x_test_white = x_test_PCA / np.sqrt(S + 1e-5)"
      ],
      "metadata": {
        "id": "MP80BhetIoA7"
      },
      "execution_count": null,
      "outputs": []
    },
    {
      "cell_type": "code",
      "source": [
        "# Visualize the transformations \n",
        "\n",
        "# After mean subtraction + standard deviation division \n",
        "for i in range(5):\n",
        "  plt.figure()\n",
        "  plt.imshow(x_train_zero_centred[i].reshape(28,28))"
      ],
      "metadata": {
        "id": "St6h8i6RTKXz",
        "colab": {
          "base_uri": "https://localhost:8080/"
        },
        "outputId": "83a154cb-7f5a-4a19-d2fe-f7060892105e"
      },
      "execution_count": null,
      "outputs": [
        {
          "output_type": "display_data",
          "data": {
            "text/plain": [
              "<Figure size 432x288 with 1 Axes>"
            ],
            "image/png": "[encoded data removed]"
          },
          "metadata": {
            "needs_background": "light"
          }
        },
        {
          "output_type": "display_data",
          "data": {
            "text/plain": [
              "<Figure size 432x288 with 1 Axes>"
            ],
            "image/png": "[encoded data removed]"
          },
          "metadata": {
            "needs_background": "light"
          }
        },
        {
          "output_type": "display_data",
          "data": {
            "text/plain": [
              "<Figure size 432x288 with 1 Axes>"
            ],
            "image/png": "[encoded data removed]"
          },
          "metadata": {
            "needs_background": "light"
          }
        },
        {
          "output_type": "display_data",
          "data": {
            "text/plain": [
              "<Figure size 432x288 with 1 Axes>"
            ],
            "image/png": "[encoded data removed]"
          },
          "metadata": {
            "needs_background": "light"
          }
        },
        {
          "output_type": "display_data",
          "data": {
            "text/plain": [
              "<Figure size 432x288 with 1 Axes>"
            ],
            "image/png": "[encoded data removed]"
          },
          "metadata": {
            "needs_background": "light"
          }
        }
      ]
    },
    {
      "cell_type": "code",
      "source": [
        "# After PCA\n",
        "for i in range(5):\n",
        "  plt.figure()\n",
        "  plt.imshow(x_train_PCA_reduced_inverted[i].reshape(28,28))"
      ],
      "metadata": {
        "id": "BbBw2i-VTfF2",
        "colab": {
          "base_uri": "https://localhost:8080/"
        },
        "outputId": "c78f1a62-2bad-430b-bf26-08f1b24c6feb"
      },
      "execution_count": null,
      "outputs": [
        {
          "output_type": "display_data",
          "data": {
            "text/plain": [
              "<Figure size 432x288 with 1 Axes>"
            ],
            "image/png": "[encoded data removed]"
          },
          "metadata": {
            "needs_background": "light"
          }
        },
        {
          "output_type": "display_data",
          "data": {
            "text/plain": [
              "<Figure size 432x288 with 1 Axes>"
            ],
            "image/png": "[encoded data removed]"
          },
          "metadata": {
            "needs_background": "light"
          }
        },
        {
          "output_type": "display_data",
          "data": {
            "text/plain": [
              "<Figure size 432x288 with 1 Axes>"
            ],
            "image/png": "[encoded data removed]"
          },
          "metadata": {
            "needs_background": "light"
          }
        },
        {
          "output_type": "display_data",
          "data": {
            "text/plain": [
              "<Figure size 432x288 with 1 Axes>"
            ],
            "image/png": "[encoded data removed]"
          },
          "metadata": {
            "needs_background": "light"
          }
        },
        {
          "output_type": "display_data",
          "data": {
            "text/plain": [
              "<Figure size 432x288 with 1 Axes>"
            ],
            "image/png": "[encoded data removed]"
          },
          "metadata": {
            "needs_background": "light"
          }
        }
      ]
    },
    {
      "cell_type": "code",
      "source": [
        "# After whitening\n",
        "for i in range(5):\n",
        "  plt.figure()\n",
        "  plt.imshow(x_train_white[i].reshape(28,28))"
      ],
      "metadata": {
        "id": "60GSlFRTV0a6",
        "colab": {
          "base_uri": "https://localhost:8080/"
        },
        "outputId": "f3e6164a-c264-49d4-b8c7-2a843a8acc79"
      },
      "execution_count": null,
      "outputs": [
        {
          "output_type": "display_data",
          "data": {
            "text/plain": [
              "<Figure size 432x288 with 1 Axes>"
            ],
            "image/png": "[encoded data removed]"
          },
          "metadata": {
            "needs_background": "light"
          }
        },
        {
          "output_type": "display_data",
          "data": {
            "text/plain": [
              "<Figure size 432x288 with 1 Axes>"
            ],
            "image/png": "[encoded data removed]"
          },
          "metadata": {
            "needs_background": "light"
          }
        },
        {
          "output_type": "display_data",
          "data": {
            "text/plain": [
              "<Figure size 432x288 with 1 Axes>"
            ],
            "image/png": "[encoded data removed]"
          },
          "metadata": {
            "needs_background": "light"
          }
        },
        {
          "output_type": "display_data",
          "data": {
            "text/plain": [
              "<Figure size 432x288 with 1 Axes>"
            ],
            "image/png": "[encoded data removed]"
          },
          "metadata": {
            "needs_background": "light"
          }
        },
        {
          "output_type": "display_data",
          "data": {
            "text/plain": [
              "<Figure size 432x288 with 1 Axes>"
            ],
            "image/png": "[encoded data removed]"
          },
          "metadata": {
            "needs_background": "light"
          }
        }
      ]
    },
    {
      "cell_type": "markdown",
      "source": [
        "#Task 2"
      ],
      "metadata": {
        "id": "_6yHPt6p9csr"
      }
    },
    {
      "cell_type": "code",
      "source": [
        "# activation functions\n",
        "logistic = lambda z: 1./ (1 + np.exp(-z))\n",
        "dlogistic = lambda z: z*(1-z)\n",
        "ReLu = lambda z: np.maximum(z,0)\n",
        "dReLu = lambda z: (z>0)*1\n",
        "# set gamma to 0.01\n",
        "leakyReLu = lambda z: np.maximum(z,0) + 0.01*np.minimum(z,0)\n",
        "dLeaky = lambda z: (z>0)*1+(z<0)*0.01\n",
        "# parametric ReLu: make gamma a learnable parameter\n",
        "#leakyReLu = lambda z, gamma: np.maximum(z,0) + gamma*np.minimum(z,0)\n",
        "#dLeaky = lambda z, gamma: (z>0)*1+(z<0)*gamma\n",
        "tanh = lambda z: (np.exp(z)-np.exp(-z))/(np.exp(z)+np.exp(-z))\n",
        "dtanh = lambda z: 1-tanh(z)**2"
      ],
      "metadata": {
        "id": "07XHIMDAveNo"
      },
      "execution_count": null,
      "outputs": []
    },
    {
      "cell_type": "code",
      "source": [
        "class MLP:\n",
        "\n",
        "    \n",
        "    #M is the number of units in each hidden layers, actFunc is activation function, and numHidLayer is the number of hidden layers\n",
        "    def __init__(self, actFunc = 'logistic', numHLayer = 1, M = [32], dropout=False): \n",
        "        self.M = M\n",
        "        self.dropout = dropout\n",
        "        self.numHLayer = numHLayer\n",
        "        if(actFunc == 'logistic'):\n",
        "          self.actFunc = logistic\n",
        "          self.dActFunc = dlogistic\n",
        "        elif (actFunc == 'relu'):\n",
        "          self.actFunc = ReLu\n",
        "          self.dActFunc = dReLu\n",
        "        elif (actFunc == 'leakyRelu'):\n",
        "          self.actFunc = leakyReLu\n",
        "          self.dActFunc = dLeaky\n",
        "        elif (actFunc == 'tanh'):\n",
        "          self.actFunc = tanh\n",
        "          self.dActFunc = dtanh\n",
        "        \n",
        "        if(numHLayer != len(M)):\n",
        "          print(\"length of input hidden unit array does not match number of layers!\")\n",
        "          # print(\"im so tired lemma go sleep\")\n",
        "        \n",
        "    \n",
        "    def mini_train_plot(self, input, y, x_test, y_test, optimizer, epoch, batch_size=32):\n",
        "      if_first_pass = True\n",
        "      accuracies = np.zeros([2, epoch])\n",
        "      for e in range(epoch):\n",
        "        for batch in iterate_minibatches(input, y, batch_size, shuffle=True):\n",
        "          x_batch, y_batch = batch\n",
        "          self.fit(x_batch,y_batch,optimizer,first_pass=if_first_pass)\n",
        "          if_first_pass = False\n",
        "        yh_train = self.predict(input)\n",
        "        train_acc = evaluate_acc(y, yh_train)\n",
        "        accuracies[0,e] = train_acc\n",
        "        yh_test = self.predict(x_test)\n",
        "        test_acc = evaluate_acc(y_test, yh_test)\n",
        "        accuracies[1,e] = test_acc\n",
        "      return accuracies\n",
        "\n",
        "    def mini_train(self, input, y, optimizer, epoch, batch_size=32):\n",
        "      if_first_pass = True\n",
        "      for e in range(epoch):\n",
        "        for batch in iterate_minibatches(input, y, batch_size, shuffle=True):\n",
        "          x_batch, y_batch = batch\n",
        "          self.fit(x_batch,y_batch,optimizer,first_pass=if_first_pass)\n",
        "          if_first_pass = False\n",
        "\n",
        "    def fit(self, input, y, optimizer,first_pass=False):\n",
        "        N,D = input.shape\n",
        "        y = oneHotEncoding(y) #y is now of shape [n,c]\n",
        "        C = y.shape[1]\n",
        "            \n",
        "        def gradient(input, y, params, biases):\n",
        "            w = params\n",
        "            bias = biases\n",
        "            x = []\n",
        "            x.append(input) \n",
        "            for i in range(self.numHLayer + 2):\n",
        "              if (i == 0): #skips the first layer because first layer is the input layer (shape: NxD)\n",
        "                '''\n",
        "                if (self.dropout==True):\n",
        "                  p = 0.8\n",
        "                  mask = np.random.rand(N, D)\n",
        "                  mask = (mask < p).astype(int)\n",
        "                  x[0] = np.multiply(mask, x[0])\n",
        "                  x[0] = x[0]/p\n",
        "                else:\n",
        "                  continue\n",
        "                '''\n",
        "                continue\n",
        "              elif (i == self.numHLayer+1):\n",
        "                z = softMax(np.dot(x[i-1], w[i-1])+bias[i-1].T)\n",
        "                x.append(z)\n",
        "              else:\n",
        "                z = self.actFunc(np.dot(x[i-1], w[i-1])+bias[i-1].T)\n",
        "                if (self.dropout==True):\n",
        "                  p = 0.5\n",
        "                  mask = np.random.rand(z.shape[0], z.shape[1])\n",
        "                  mask = (mask < p).astype(int)\n",
        "                  z = np.multiply(mask, z)\n",
        "                  z = z/p\n",
        "                x.append(z)\n",
        "\n",
        "            #x should now be a tensor of length numHLayer+2 (i.e. x[numHLayer+1] == yh)\n",
        "            dw = [] #dw should be a 3D tensor of length (numHLayer+1)\n",
        "            dx = [] #dx should be a 3D tensor of length (numHLayer+1)\n",
        "            dbias = []\n",
        "            count = 0\n",
        "            for i in reversed(range(1,self.numHLayer+2)):\n",
        "              if (i == self.numHLayer + 1): #last layer\n",
        "                dx.append(x[i] - y) #dy = yh - y #N\n",
        "                dw.append(np.dot(x[i-1].T, dx[count])/N)\n",
        "                dbias.append(np.sum(dx[count],axis=0, keepdims=True)/N)\n",
        "              else:\n",
        "                dx.append(np.dot(dx[count-1], w[i].T))\n",
        "                dw.append(np.dot(x[i-1].T,dx[count]*self.dActFunc(x[i]))/N)\n",
        "                dbias.append(np.sum(dx[count]*self.dActFunc(x[i]),axis=0, keepdims=True)/N)\n",
        "              count = count +1\n",
        "            dw = list(reversed(dw)) #now in normal order\n",
        "            dbias = list(reversed(dbias))\n",
        "            return dw,dbias\n",
        "        if(first_pass):            \n",
        "          w = []\n",
        "          bias = []\n",
        "          if (self.numHLayer != 0):\n",
        "            first = np.append([D], self.M) #sleep is something we dont care abt. for each weight layer Wi = size A x B, sleep[i] == A\n",
        "            second = np.append(self.M,[10])\n",
        "            for i in range(self.numHLayer + 1):\n",
        "              pain = np.random.randn(first[i],second[i]) * .01 #pain is temporary #(so they said) \n",
        "              w.append(pain)\n",
        "              b = np.zeros((second[i],1))\n",
        "              bias.append(b)\n",
        "          else:\n",
        "            pain = np.random.randn(D,10)* .01\n",
        "            w.append(pain)\n",
        "            b = np.zeros((10,1))\n",
        "            bias.append(b)\n",
        "          self.params = w\n",
        "          self.biases = bias\n",
        "        self.params, self.biases = optimizer.run(gradient, input, y, self.params,self.biases)\n",
        "        return self\n",
        "    \n",
        "    def predict(self, input):\n",
        "        w = self.params\n",
        "        bias = self.biases\n",
        "        x = []\n",
        "        x.append(input) #x is a 3D tensor (matrix?) that records the units in each layer. \n",
        "        for i in range(self.numHLayer + 2):\n",
        "          if (i == 0): #skips the first layer because first layer is the input layer (shape: NxD)\n",
        "            continue\n",
        "          elif (i == self.numHLayer+1):\n",
        "            z = softMax(np.dot(x[i-1], w[i-1])+bias[i-1].T)\n",
        "            x.append(z)\n",
        "          else:\n",
        "            z = self.actFunc(np.dot(x[i-1], w[i-1])+bias[i-1].T)\n",
        "            x.append(z)\n",
        "          '''\n",
        "          else:\n",
        "            z = self.actFunc(np.dot(x[i-1], w[i-1])) #N x M(i-1)\n",
        "            x.append(z) #\n",
        "        x[self.numHLayer + 1] = softMax(x[self.numHLayer + 1]) #softmax shape [N,c]\n",
        "        '''\n",
        "        x[self.numHLayer + 1] = np.argmax(x[self.numHLayer + 1], axis=1) #argmax shape[N]\n",
        "        # x[self.numHLayer + 1] = oneHotEncoding(x[self.numHLayer + 1]) #shape[N,c]\n",
        "        # x[self.numHLayer + 1] = x[self.numHLayer + 1].flatten()\n",
        "        x[self.numHLayer + 1] = x[self.numHLayer + 1].astype(int)\n",
        "        return x[self.numHLayer + 1]\n",
        "    "
      ],
      "metadata": {
        "id": "SSemVt5q9equ"
      },
      "execution_count": null,
      "outputs": []
    },
    {
      "cell_type": "markdown",
      "source": [
        "evaluation function"
      ],
      "metadata": {
        "id": "BpGwDGlv1VoI"
      }
    },
    {
      "cell_type": "code",
      "source": [
        "# evaluate_acc takes in true labels and target labels and output accuracy score\n",
        "def evaluate_acc(y_true, y_pred):\n",
        "    accuracy = np.sum(y_pred == y_true, dtype=int)/y_pred.shape[0]\n",
        "    #print(f\"model accuracy: {accuracy}\")\n",
        "    return accuracy"
      ],
      "metadata": {
        "id": "81TBFIjD1VYs"
      },
      "execution_count": null,
      "outputs": []
    },
    {
      "cell_type": "code",
      "source": [
        "def softMax(A): #softmax\n",
        "    \"\"\"\n",
        "    Computes a softmax function. \n",
        "    Input: A (N, c) ndarray.\n",
        "    Returns: (N,c) ndarray.\n",
        "    \"\"\"\n",
        "    Amax = np.max(A,axis=1)[:,None]\n",
        "    exp = np.exp(A - Amax)\n",
        "    sum_exp = np.sum(exp, axis=1, keepdims=True)\n",
        "    A = exp/sum_exp\n",
        "    return A"
      ],
      "metadata": {
        "id": "GYplChpc6Db5"
      },
      "execution_count": null,
      "outputs": []
    },
    {
      "cell_type": "code",
      "source": [
        "def oneHotEncoding(a):\n",
        "  '''\n",
        "  takes in [N] ndarray\n",
        "  returns [N,c] one hot encoded ndarray\n",
        "  '''\n",
        "  b = np.zeros((a.size, 10))\n",
        "  b[np.arange(a.size),a] = 1\n",
        "  b = b.astype(int)\n",
        "  return b"
      ],
      "metadata": {
        "id": "O8R9EtNUbyF1"
      },
      "execution_count": null,
      "outputs": []
    },
    {
      "cell_type": "code",
      "source": [
        "class GradientDescent:\n",
        "    \n",
        "    def __init__(self, learning_rate=.001, max_iters=1e4, epsilon=1e-8):\n",
        "        self.learning_rate = learning_rate\n",
        "        self.max_iters = max_iters\n",
        "        self.epsilon = epsilon\n",
        "        \n",
        "    def run(self, gradient_fn, x, y, params, biases):\n",
        "        #norms = np.array([np.inf])\n",
        "        #t = 1\n",
        "        grad, grad_bias = gradient_fn(x, y, params,biases)\n",
        "        for p in range(len(params)):\n",
        "            #params[len(params)-1] = params[len(params)-1].flatten()\n",
        "            params[p] -= self.learning_rate * grad[p]\n",
        "            biases[p] -= self.learning_rate * grad_bias[p].T\n",
        "        '''\n",
        "        while np.any(norms > self.epsilon) and t < self.max_iters:\n",
        "            grad, grad_bias = gradient_fn(x, y, params,biases)\n",
        "            for p in range(len(params)):\n",
        "                #params[len(params)-1] = params[len(params)-1].flatten()\n",
        "                params[p] -= self.learning_rate * grad[p]\n",
        "                biases[p] -= self.learning_rate * grad_bias[p].T\n",
        "            t += 1\n",
        "            norms = np.array([np.linalg.norm(g) for g in grad])\n",
        "        '''\n",
        "        return params, biases"
      ],
      "metadata": {
        "id": "faDEmI_U_Ayx"
      },
      "execution_count": null,
      "outputs": []
    },
    {
      "cell_type": "code",
      "source": [
        "def iterate_minibatches(x, label, batchsize, shuffle=True):\n",
        "  #iterates through the minibatches, each batch has a batch size of batchsize\n",
        "    assert x.shape[0] == label.shape[0]\n",
        "    if shuffle:\n",
        "        indices = np.arange(x.shape[0])\n",
        "        np.random.shuffle(indices)\n",
        "    for start in range(0, x.shape[0], batchsize):\n",
        "        end = min(start + batchsize, x.shape[0])\n",
        "        if shuffle:\n",
        "            seg = indices[start:end]\n",
        "        else:\n",
        "            seg = slice(start,end)\n",
        "        yield x[seg], label[seg]"
      ],
      "metadata": {
        "id": "nbq85kvJUfjY"
      },
      "execution_count": null,
      "outputs": []
    },
    {
      "cell_type": "markdown",
      "source": [
        "#Task 3"
      ],
      "metadata": {
        "id": "l4v72dwei-aT"
      }
    },
    {
      "cell_type": "code",
      "source": [
        "y_test = y_test.flatten()\n",
        "y_train = y_train.flatten()"
      ],
      "metadata": {
        "id": "gX7G80SKaP0d"
      },
      "execution_count": null,
      "outputs": []
    },
    {
      "cell_type": "markdown",
      "source": [
        "### Question 1"
      ],
      "metadata": {
        "id": "dXLJKfOpbis3"
      }
    },
    {
      "cell_type": "markdown",
      "source": [
        "#### zero hidden layer"
      ],
      "metadata": {
        "id": "BowpdhIcmd5G"
      }
    },
    {
      "cell_type": "code",
      "source": [
        "# plot\n",
        "model0 = MLP(numHLayer=0, M=[])\n",
        "optimizer = GradientDescent(learning_rate=.1, max_iters=50)\n",
        "epochs = 30\n",
        "\n",
        "x = list(range(1, epochs+1))\n",
        "\n",
        "accuracies = model0.mini_train_plot(x_train_zero_centred, y_train, x_test_zero_centred, y_test, optimizer, epoch=epochs, batch_size=2000)\n",
        "y = accuracies[0,:].tolist() # train\n",
        "y2 = accuracies[1,:].tolist() # test\n",
        "\n",
        "fig, ax = plt.subplots()\n",
        "\n",
        "ax.plot(x, y, label=\"train\")\n",
        "ax.plot(x, y2, label=\"test\")\n",
        "ax.legend()\n",
        "ax.set_ylabel('accuracy')\n",
        "ax.set_xlabel('epoch')\n",
        "ax.set_title('Model Performance as Function of Epoch')\n",
        "plt.show()"
      ],
      "metadata": {
        "colab": {
          "base_uri": "https://localhost:8080/",
          "height": 295
        },
        "id": "FHAAfHZ4Kflx",
        "outputId": "9c3a6986-a390-4c3e-c210-7634f8ced479"
      },
      "execution_count": null,
      "outputs": [
        {
          "output_type": "display_data",
          "data": {
            "text/plain": [
              "<Figure size 432x288 with 1 Axes>"
            ],
            "image/png": "[encoded data removed]"
          },
          "metadata": {
            "needs_background": "light"
          }
        }
      ]
    },
    {
      "cell_type": "markdown",
      "source": [
        "choosing learning rate"
      ],
      "metadata": {
        "id": "1VYcDbiwjZf6"
      }
    },
    {
      "cell_type": "code",
      "source": [
        "model0 = MLP(numHLayer=0, M=[])\n",
        "optimizer = GradientDescent(learning_rate=.001, max_iters=50)\n",
        "model0.mini_train(x_train_zero_centred, y_train, optimizer, epoch=3, batch_size=2000)\n",
        "yh = model0.predict(x_test_zero_centred)\n",
        "evaluate_acc(y_test, yh)"
      ],
      "metadata": {
        "colab": {
          "base_uri": "https://localhost:8080/"
        },
        "id": "-WeA5y4ajX3K",
        "outputId": "99424725-0da8-47de-b1f7-ff4230e0aa59"
      },
      "execution_count": null,
      "outputs": [
        {
          "output_type": "execute_result",
          "data": {
            "text/plain": [
              "0.6588"
            ]
          },
          "metadata": {},
          "execution_count": 19
        }
      ]
    },
    {
      "cell_type": "code",
      "source": [
        "model0 = MLP(numHLayer=0, M=[])\n",
        "optimizer = GradientDescent(learning_rate=.01, max_iters=50)\n",
        "model0.mini_train(x_train_zero_centred, y_train, optimizer, epoch=3, batch_size=2000)\n",
        "yh = model0.predict(x_test_zero_centred)\n",
        "evaluate_acc(y_test, yh)"
      ],
      "metadata": {
        "colab": {
          "base_uri": "https://localhost:8080/"
        },
        "id": "XKeQaAIomhT0",
        "outputId": "b8b59de0-b05a-40a6-e0f8-4f0039f1262d"
      },
      "execution_count": null,
      "outputs": [
        {
          "output_type": "execute_result",
          "data": {
            "text/plain": [
              "0.7664"
            ]
          },
          "metadata": {},
          "execution_count": 20
        }
      ]
    },
    {
      "cell_type": "code",
      "source": [
        "model0 = MLP(numHLayer=0, M=[])\n",
        "optimizer = GradientDescent(learning_rate=.1, max_iters=50)\n",
        "model0.mini_train(x_train_zero_centred, y_train, optimizer, epoch=3, batch_size=2000)\n",
        "yh = model0.predict(x_test_zero_centred)\n",
        "evaluate_acc(y_test, yh)"
      ],
      "metadata": {
        "colab": {
          "base_uri": "https://localhost:8080/"
        },
        "id": "LuadcCMCynCh",
        "outputId": "554b9ead-7b2e-498b-cb55-29747a155c12"
      },
      "execution_count": null,
      "outputs": [
        {
          "output_type": "execute_result",
          "data": {
            "text/plain": [
              "0.8271"
            ]
          },
          "metadata": {},
          "execution_count": 21
        }
      ]
    },
    {
      "cell_type": "markdown",
      "source": [
        "#### 1 hidden layer + ReLu"
      ],
      "metadata": {
        "id": "GJVMLNu5nDK-"
      }
    },
    {
      "cell_type": "code",
      "source": [
        "# plot\n",
        "model1 = MLP(actFunc='relu', numHLayer=1, M=[128])\n",
        "optimizer = GradientDescent(learning_rate=.05)\n",
        "epochs = 100\n",
        "\n",
        "x = list(range(1, epochs+1))\n",
        "\n",
        "accuracies = model1.mini_train_plot(x_train_zero_centred, y_train, x_test_zero_centred, y_test, optimizer, epoch=epochs, batch_size=2000)\n",
        "y = accuracies[0,:].tolist() # train\n",
        "y2 = accuracies[1,:].tolist() # test\n",
        "\n",
        "fig, ax = plt.subplots()\n",
        "\n",
        "ax.plot(x, y, label=\"train\")\n",
        "ax.plot(x, y2, label=\"test\")\n",
        "ax.legend()\n",
        "ax.set_ylabel('accuracy')\n",
        "ax.set_xlabel('epoch')\n",
        "ax.set_title('Model Performance as Function of Epoch')\n",
        "plt.show()"
      ],
      "metadata": {
        "colab": {
          "base_uri": "https://localhost:8080/",
          "height": 295
        },
        "id": "dRdRv0K7nCWV",
        "outputId": "9721866c-91a3-435b-b71a-ec0f339b202f"
      },
      "execution_count": null,
      "outputs": [
        {
          "output_type": "display_data",
          "data": {
            "text/plain": [
              "<Figure size 432x288 with 1 Axes>"
            ],
            "image/png": "[encoded data removed]"
          },
          "metadata": {
            "needs_background": "light"
          }
        }
      ]
    },
    {
      "cell_type": "markdown",
      "source": [
        "choose learning rate"
      ],
      "metadata": {
        "id": "yltaUegM0HBj"
      }
    },
    {
      "cell_type": "code",
      "source": [
        "# one hidden layer with 128 units + ReLu\n",
        "model1 = MLP(actFunc='relu', numHLayer=1, M=[128])\n",
        "optimizer = GradientDescent(learning_rate=.001, max_iters=50)\n",
        "model1.mini_train(x_train_zero_centred, y_train, optimizer, epoch=10, batch_size=2000)\n",
        "yh = model1.predict(x_test_zero_centred)\n",
        "evaluate_acc(y_test, yh)"
      ],
      "metadata": {
        "colab": {
          "base_uri": "https://localhost:8080/"
        },
        "id": "qTIRTK1d0Iqi",
        "outputId": "ceab3f14-801b-4960-e422-41dd05040bd0"
      },
      "execution_count": null,
      "outputs": [
        {
          "output_type": "execute_result",
          "data": {
            "text/plain": [
              "0.5914"
            ]
          },
          "metadata": {},
          "execution_count": 32
        }
      ]
    },
    {
      "cell_type": "code",
      "source": [
        "# one hidden layer with 128 units + ReLu\n",
        "model1 = MLP(actFunc='relu', numHLayer=1, M=[128])\n",
        "optimizer = GradientDescent(learning_rate=.01, max_iters=50)\n",
        "model1.mini_train(x_train_zero_centred, y_train, optimizer, epoch=10, batch_size=2000)\n",
        "yh = model1.predict(x_test_zero_centred)\n",
        "evaluate_acc(y_test, yh)"
      ],
      "metadata": {
        "colab": {
          "base_uri": "https://localhost:8080/"
        },
        "id": "DYrtk0Nn0Mf5",
        "outputId": "8ef9b522-495a-4138-b9d7-f38e2ba36c4c"
      },
      "execution_count": null,
      "outputs": [
        {
          "output_type": "execute_result",
          "data": {
            "text/plain": [
              "0.7051"
            ]
          },
          "metadata": {},
          "execution_count": 33
        }
      ]
    },
    {
      "cell_type": "code",
      "source": [
        "# one hidden layer with 128 units + ReLu\n",
        "model1 = MLP(actFunc='relu', numHLayer=1, M=[128])\n",
        "optimizer = GradientDescent(learning_rate=.1, max_iters=50)\n",
        "model1.mini_train(x_train_zero_centred, y_train, optimizer, epoch=10, batch_size=2000)\n",
        "yh = model1.predict(x_test_zero_centred)\n",
        "evaluate_acc(y_test, yh)"
      ],
      "metadata": {
        "colab": {
          "base_uri": "https://localhost:8080/"
        },
        "id": "ZlzFQuAP0NCL",
        "outputId": "40ecbd87-682c-430c-bdac-55f2277b96dd"
      },
      "execution_count": null,
      "outputs": [
        {
          "output_type": "execute_result",
          "data": {
            "text/plain": [
              "0.8421"
            ]
          },
          "metadata": {},
          "execution_count": 34
        }
      ]
    },
    {
      "cell_type": "markdown",
      "source": [
        "#### 2 hidden layes + ReLu"
      ],
      "metadata": {
        "id": "D1fBZpOgoKrO"
      }
    },
    {
      "cell_type": "code",
      "source": [
        "# plot\n",
        "model2 = MLP(actFunc='relu', numHLayer=2, M=[128, 128])\n",
        "optimizer = GradientDescent(learning_rate=.05, max_iters=50)\n",
        "epochs = 100\n",
        "\n",
        "x = list(range(1, epochs+1))\n",
        "\n",
        "accuracies = model2.mini_train_plot(x_train_zero_centred, y_train, x_test_zero_centred, y_test, optimizer, epoch=epochs, batch_size=2000)\n",
        "y = accuracies[0,:].tolist() # train\n",
        "y2 = accuracies[1,:].tolist() # test\n",
        "\n",
        "fig, ax = plt.subplots()\n",
        "\n",
        "ax.plot(x, y, label=\"train\")\n",
        "ax.plot(x, y2, label=\"test\")\n",
        "ax.legend()\n",
        "ax.set_ylabel('accuracy')\n",
        "ax.set_xlabel('epoch')\n",
        "ax.set_title('Model Performance as Function of Epoch')\n",
        "plt.show()"
      ],
      "metadata": {
        "colab": {
          "base_uri": "https://localhost:8080/",
          "height": 295
        },
        "id": "bOn5R1X9oQCe",
        "outputId": "1228b00b-7175-4e72-8b03-823d81303e8a"
      },
      "execution_count": null,
      "outputs": [
        {
          "output_type": "display_data",
          "data": {
            "text/plain": [
              "<Figure size 432x288 with 1 Axes>"
            ],
            "image/png": "[encoded data removed]"
          },
          "metadata": {
            "needs_background": "light"
          }
        }
      ]
    },
    {
      "cell_type": "markdown",
      "source": [
        "choose learning rate"
      ],
      "metadata": {
        "id": "h4SCj8aN105d"
      }
    },
    {
      "cell_type": "code",
      "source": [
        "model2 = MLP(actFunc='relu', numHLayer=2, M=[128, 128])\n",
        "optimizer = GradientDescent(learning_rate=.001, max_iters=50)\n",
        "model2.mini_train(x_train_zero_centred, y_train, optimizer, epoch=20, batch_size=2000)\n",
        "yh = model2.predict(x_test_zero_centred)\n",
        "evaluate_acc(y_test, yh) "
      ],
      "metadata": {
        "id": "DBdSCV9813-J",
        "colab": {
          "base_uri": "https://localhost:8080/"
        },
        "outputId": "1484fbed-3e42-4b66-d728-7c086701d162"
      },
      "execution_count": null,
      "outputs": [
        {
          "output_type": "execute_result",
          "data": {
            "text/plain": [
              "0.2298"
            ]
          },
          "metadata": {},
          "execution_count": 36
        }
      ]
    },
    {
      "cell_type": "code",
      "source": [
        "model2 = MLP(actFunc='relu', numHLayer=2, M=[128, 128])\n",
        "optimizer = GradientDescent(learning_rate=.01, max_iters=50)\n",
        "model2.mini_train(x_train_zero_centred, y_train, optimizer, epoch=20, batch_size=2000)\n",
        "yh = model2.predict(x_test_zero_centred)\n",
        "evaluate_acc(y_test, yh) "
      ],
      "metadata": {
        "colab": {
          "base_uri": "https://localhost:8080/"
        },
        "id": "CInlbR8VaYDo",
        "outputId": "7fc403de-4f18-41bf-f4a9-c48280bab761"
      },
      "execution_count": null,
      "outputs": [
        {
          "output_type": "execute_result",
          "data": {
            "text/plain": [
              "0.3435"
            ]
          },
          "metadata": {},
          "execution_count": 37
        }
      ]
    },
    {
      "cell_type": "code",
      "source": [
        "model2 = MLP(actFunc='relu', numHLayer=2, M=[128, 128])\n",
        "optimizer = GradientDescent(learning_rate=.1, max_iters=50)\n",
        "model2.mini_train(x_train_zero_centred, y_train, optimizer, epoch=20, batch_size=2000)\n",
        "yh = model2.predict(x_test_zero_centred)\n",
        "evaluate_acc(y_test, yh) "
      ],
      "metadata": {
        "colab": {
          "base_uri": "https://localhost:8080/"
        },
        "id": "ZZYzDDC318sr",
        "outputId": "78146095-b580-4d6c-bf2c-71366b3435b6"
      },
      "execution_count": null,
      "outputs": [
        {
          "output_type": "execute_result",
          "data": {
            "text/plain": [
              "0.8408"
            ]
          },
          "metadata": {},
          "execution_count": 38
        }
      ]
    },
    {
      "cell_type": "markdown",
      "source": [
        "### Question 2"
      ],
      "metadata": {
        "id": "vlNCMHuBbmDJ"
      }
    },
    {
      "cell_type": "markdown",
      "source": [
        "#### leaky Relu"
      ],
      "metadata": {
        "id": "94AsqZhZm9Jj"
      }
    },
    {
      "cell_type": "code",
      "source": [
        "# plot\n",
        "model_leaky = MLP(actFunc='leakyRelu', numHLayer=2, M=[128, 128])\n",
        "optimizer = GradientDescent(learning_rate=.1, max_iters=50)\n",
        "epochs = 100\n",
        "\n",
        "x = list(range(1, epochs+1))\n",
        "\n",
        "accuracies = model_leaky.mini_train_plot(x_train_zero_centred, y_train, x_test_zero_centred, y_test, optimizer, epoch=epochs, batch_size=2000)\n",
        "y = accuracies[0,:].tolist() # train\n",
        "y2 = accuracies[1,:].tolist() # test\n",
        "\n",
        "fig, ax = plt.subplots()\n",
        "\n",
        "ax.plot(x, y, label=\"train\")\n",
        "ax.plot(x, y2, label=\"test\")\n",
        "ax.legend()\n",
        "ax.set_ylabel('accuracy')\n",
        "ax.set_xlabel('epoch')\n",
        "ax.set_title('Leaky ReLu Model Performance as Function of Epoch')\n",
        "plt.show()"
      ],
      "metadata": {
        "colab": {
          "base_uri": "https://localhost:8080/",
          "height": 295
        },
        "id": "4A9WbNvdeazq",
        "outputId": "e1600c61-9adf-40a6-cca7-9b3f8af58c8f"
      },
      "execution_count": null,
      "outputs": [
        {
          "output_type": "display_data",
          "data": {
            "text/plain": [
              "<Figure size 432x288 with 1 Axes>"
            ],
            "image/png": "[encoded data removed]"
          },
          "metadata": {
            "needs_background": "light"
          }
        }
      ]
    },
    {
      "cell_type": "code",
      "source": [
        "# two hidden layers with 128 units each + Leaky ReLu\n",
        "model_leaky = MLP(actFunc='leakyRelu', numHLayer=2, M=[128, 128])\n",
        "optimizer = GradientDescent(learning_rate=.1)\n",
        "model_leaky.mini_train(x_train_zero_centred, y_train, optimizer, epoch=20, batch_size=2000)\n",
        "yh = model_leaky.predict(x_test_zero_centred)\n",
        "evaluate_acc(y_test, yh)"
      ],
      "metadata": {
        "colab": {
          "base_uri": "https://localhost:8080/"
        },
        "id": "JEePhQhdahPX",
        "outputId": "1627d8e4-adcb-4fbb-83dd-75f2c606385e"
      },
      "execution_count": null,
      "outputs": [
        {
          "output_type": "execute_result",
          "data": {
            "text/plain": [
              "0.8424"
            ]
          },
          "metadata": {},
          "execution_count": 41
        }
      ]
    },
    {
      "cell_type": "markdown",
      "source": [
        "#### tanh"
      ],
      "metadata": {
        "id": "SS7p1fQ3m_4K"
      }
    },
    {
      "cell_type": "code",
      "source": [
        "# plot\n",
        "model_tanh = MLP(actFunc='tanh', numHLayer=2, M=[128, 128])\n",
        "optimizer = GradientDescent(learning_rate=.1, max_iters=50)\n",
        "epochs = 100\n",
        "\n",
        "x = list(range(1, epochs+1))\n",
        "\n",
        "accuracies = model_tanh.mini_train_plot(x_train_zero_centred, y_train, x_test_zero_centred, y_test, optimizer, epoch=epochs, batch_size=2000)\n",
        "y = accuracies[0,:].tolist() # train\n",
        "y2 = accuracies[1,:].tolist() # test\n",
        "\n",
        "fig, ax = plt.subplots()\n",
        "\n",
        "ax.plot(x, y, label=\"train\")\n",
        "ax.plot(x, y2, label=\"test\")\n",
        "ax.legend()\n",
        "ax.set_ylabel('accuracy')\n",
        "ax.set_xlabel('epoch')\n",
        "ax.set_title('Leaky ReLu Model Performance as Function of Epoch')\n",
        "plt.show()"
      ],
      "metadata": {
        "colab": {
          "base_uri": "https://localhost:8080/",
          "height": 295
        },
        "id": "zFcouSYGm5Qf",
        "outputId": "67665c4b-e601-497e-9382-f6dbef9e79c0"
      },
      "execution_count": null,
      "outputs": [
        {
          "output_type": "display_data",
          "data": {
            "text/plain": [
              "<Figure size 432x288 with 1 Axes>"
            ],
            "image/png": "[encoded data removed]"
          },
          "metadata": {
            "needs_background": "light"
          }
        }
      ]
    },
    {
      "cell_type": "code",
      "source": [
        "# two hidden layers with 128 units each + tanh\n",
        "model_tanh = MLP(actFunc='tanh', numHLayer=2, M=[128, 128])\n",
        "optimizer = GradientDescent(learning_rate=.1)\n",
        "model_tanh.mini_train(x_train_zero_centred, y_train, optimizer, epoch=20, batch_size=2000)\n",
        "yh = model_tanh.predict(x_test_zero_centred)\n",
        "evaluate_acc(y_test, yh)"
      ],
      "metadata": {
        "colab": {
          "base_uri": "https://localhost:8080/"
        },
        "id": "-lUCuDVVarJ1",
        "outputId": "db338e53-5941-4a5d-94a9-9653e5bb3383"
      },
      "execution_count": null,
      "outputs": [
        {
          "output_type": "execute_result",
          "data": {
            "text/plain": [
              "0.8324"
            ]
          },
          "metadata": {},
          "execution_count": 43
        }
      ]
    },
    {
      "cell_type": "markdown",
      "source": [
        "### Question 3: dropout regularization"
      ],
      "metadata": {
        "id": "wp7S9ZMUb4b3"
      }
    },
    {
      "cell_type": "code",
      "source": [
        "# plot\n",
        "model_dropout = MLP(actFunc='relu', numHLayer=2, M=[128, 128], dropout=True)\n",
        "optimizer = GradientDescent(learning_rate=.1, max_iters=10)\n",
        "epochs = 50\n",
        "\n",
        "x = list(range(1, epochs+1))\n",
        "\n",
        "accuracies = model_dropout.mini_train_plot(x_train_zero_centred, y_train, x_test_zero_centred, y_test, optimizer, epoch=epochs, batch_size=2000)\n",
        "y = accuracies[0,:].tolist() # train\n",
        "y2 = accuracies[1,:].tolist() # test\n",
        "\n",
        "fig, ax = plt.subplots()\n",
        "\n",
        "ax.plot(x, y, label=\"train\")\n",
        "ax.plot(x, y2, label=\"test\")\n",
        "ax.legend()\n",
        "ax.set_ylabel('accuracy')\n",
        "ax.set_xlabel('epoch')\n",
        "ax.set_title('Model Performance as Function of Epoch')\n",
        "plt.show()"
      ],
      "metadata": {
        "colab": {
          "base_uri": "https://localhost:8080/",
          "height": 295
        },
        "id": "CBmTlAssuJWX",
        "outputId": "43482632-96bb-4826-8e87-8465f0c3b9a8"
      },
      "execution_count": null,
      "outputs": [
        {
          "output_type": "display_data",
          "data": {
            "text/plain": [
              "<Figure size 432x288 with 1 Axes>"
            ],
            "image/png": "[encoded data removed]"
          },
          "metadata": {
            "needs_background": "light"
          }
        }
      ]
    },
    {
      "cell_type": "code",
      "source": [
        "model_dropout = MLP(actFunc='relu', numHLayer=2, M=[128, 128], dropout=True)\n",
        "optimizer = GradientDescent(learning_rate=.1, max_iters=50)\n",
        "model_dropout.mini_train(x_train_zero_centred, y_train, optimizer, epoch=200, batch_size=2000)\n",
        "yh = model_dropout.predict(x_test_zero_centred)\n",
        "evaluate_acc(y_test, yh)"
      ],
      "metadata": {
        "colab": {
          "base_uri": "https://localhost:8080/"
        },
        "id": "1xPWGtwjIQ94",
        "outputId": "6d6b5c36-0a77-4936-ad64-5e444277c09d"
      },
      "execution_count": null,
      "outputs": [
        {
          "output_type": "execute_result",
          "data": {
            "text/plain": [
              "0.8683"
            ]
          },
          "metadata": {},
          "execution_count": 50
        }
      ]
    },
    {
      "cell_type": "markdown",
      "source": [
        "### Question 4: unnormalized images"
      ],
      "metadata": {
        "id": "tNWIdvp6IRby"
      }
    },
    {
      "cell_type": "code",
      "source": [
        "model_unnormalized = MLP(actFunc='relu', numHLayer=2, M=[128, 128])\n",
        "optimizer = GradientDescent(learning_rate=.1, max_iters=50)\n",
        "model_unnormalized.mini_train(x_train, y_train, optimizer, epoch=10, batch_size=2000)\n",
        "yh = model_unnormalized.predict(x_test)\n",
        "evaluate_acc(y_test, yh) "
      ],
      "metadata": {
        "id": "cwkLD5dTb9SC",
        "colab": {
          "base_uri": "https://localhost:8080/"
        },
        "outputId": "15902319-346f-4178-c4a8-2f804db13871"
      },
      "execution_count": null,
      "outputs": [
        {
          "output_type": "execute_result",
          "data": {
            "text/plain": [
              "0.1"
            ]
          },
          "metadata": {},
          "execution_count": 46
        }
      ]
    },
    {
      "cell_type": "markdown",
      "source": [
        "### Question 5: CNN with pytorch"
      ],
      "metadata": {
        "id": "mdddS_NiaAvi"
      }
    },
    {
      "cell_type": "code",
      "source": [
        "# CNN model with pytorch\n",
        "\n",
        "import torch\n",
        "import torch.nn as nn\n",
        "import torch.nn.functional as F\n",
        "\n",
        "from torch.utils.data import Dataset\n",
        "from torchvision import datasets\n",
        "from torchvision.transforms import ToTensor\n",
        "\n",
        "import math\n",
        "\n",
        "train_dataset = datasets.FashionMNIST(root=\"data\", train=True, download=True, transform=ToTensor())\n",
        "test_dataset = datasets.FashionMNIST(root=\"data\", train=False, download=True, transform=ToTensor())\n",
        "\n",
        "batch_size = 100\n",
        "\n",
        "train_loader = torch.utils.data.DataLoader(dataset=train_dataset, batch_size=batch_size, shuffle=True)\n",
        "test_loader = torch.utils.data.DataLoader(dataset=test_dataset, batch_size=batch_size, shuffle=False)"
      ],
      "metadata": {
        "id": "4TNs7H6W-GeG"
      },
      "execution_count": null,
      "outputs": []
    },
    {
      "cell_type": "code",
      "source": [
        "class CNN(nn.Module):\n",
        "    def __init__(self, c1, c2, input_channel=1, full_layer_size=128, num_classes=10, k=3):\n",
        "        super(CNN, self).__init__()\n",
        "        self.c2 = c2\n",
        "        self.conv_layer1 = nn.Conv2d(input_channel, c1, k)\n",
        "        self.conv_layer2 = nn.Conv2d(c1, c2, k)\n",
        "        self.pool = nn.MaxPool2d(kernel_size=2) # reduce dimension of output by 1/2\n",
        "        self.dim = math.floor((math.floor((28-k+1)/2)-k+1)/2) # calculate new dimension\n",
        "        self.full_layer1 = nn.Linear(self.dim*self.dim*self.c2, full_layer_size)\n",
        "        self.full_layer2 = nn.Linear(full_layer_size, full_layer_size)\n",
        "        self.output_layer = nn.Linear(full_layer_size, num_classes)\n",
        "        \n",
        "    def forward(self, x):\n",
        "        out = self.pool(F.relu(self.conv_layer1(x)))\n",
        "        out = self.pool(F.relu(self.conv_layer2(out)))\n",
        "        out = out.view(-1, self.dim*self.dim*self.c2) # flatten\n",
        "        out = F.relu(self.full_layer1(out))\n",
        "        out = F.relu(self.full_layer2(out))\n",
        "        out = self.output_layer(out)\n",
        "        return out\n"
      ],
      "metadata": {
        "id": "8lPmBfJtunJf"
      },
      "execution_count": null,
      "outputs": []
    },
    {
      "cell_type": "markdown",
      "source": [
        "#### hyperparameter tuning\n",
        "kernel_size, out_channel, (stride, padding)"
      ],
      "metadata": {
        "id": "h6t2fUfXE3Ni"
      }
    },
    {
      "cell_type": "markdown",
      "source": [
        "##### kernal dimension = 3*3"
      ],
      "metadata": {
        "id": "DyxtdWmlOR7D"
      }
    },
    {
      "cell_type": "code",
      "source": [
        "# default kernel size (3)\n",
        "model = CNN(c1=16, c2=32)\n",
        "\n",
        "# If GPU is available, move the model to GPU\n",
        "device = torch.device(\"cuda\" if torch.cuda.is_available() else \"cpu\")\n",
        "model.to(device)"
      ],
      "metadata": {
        "id": "By-CDfZAEoai"
      },
      "execution_count": null,
      "outputs": []
    },
    {
      "cell_type": "code",
      "source": [
        "loss_func = nn.CrossEntropyLoss()  \n",
        "optimizer = torch.optim.SGD(model.parameters(), lr=1e-3, momentum=0.9)\n",
        "\n",
        "losses = []\n",
        "for epoch in range(5):\n",
        "    epoch_loss = []\n",
        "\n",
        "    # Iterate over data\n",
        "    for batch_idx, (images, labels) in enumerate(train_loader):  \n",
        "      #move tensor to the same device (CPU/GPU) as the model\n",
        "      images, labels = images.to(device), labels.to(device)\n",
        "      \n",
        "      # Zero the parameter gradients\n",
        "      optimizer.zero_grad()  \n",
        "      \n",
        "      # forward + loss calc + backward + step\n",
        "      outputs = model(images)\n",
        "      loss = loss_func(outputs, labels)\n",
        "      loss.backward()\n",
        "      optimizer.step()\n",
        "\n",
        "      if batch_idx % 500 == 0:\n",
        "        print(f\"Epoch: {epoch+1}, Loss: {loss.item():.4f}\")\n",
        "\n",
        "      epoch_loss.append(loss.item())\n",
        "    losses.append(np.mean(epoch_loss))\n"
      ],
      "metadata": {
        "id": "S1WCLjUy-UlX",
        "colab": {
          "base_uri": "https://localhost:8080/"
        },
        "outputId": "2c513a57-cefe-4c75-ed30-ca33c17de0e5"
      },
      "execution_count": null,
      "outputs": [
        {
          "output_type": "stream",
          "name": "stdout",
          "text": [
            "Epoch: 1, Loss: 0.8066\n",
            "Epoch: 1, Loss: 0.7650\n",
            "Epoch: 2, Loss: 0.6875\n",
            "Epoch: 2, Loss: 0.5898\n",
            "Epoch: 3, Loss: 0.6339\n",
            "Epoch: 3, Loss: 0.5931\n",
            "Epoch: 4, Loss: 0.5020\n",
            "Epoch: 4, Loss: 0.6667\n",
            "Epoch: 5, Loss: 0.3989\n",
            "Epoch: 5, Loss: 0.5645\n"
          ]
        }
      ]
    },
    {
      "cell_type": "code",
      "source": [
        "correct = 0\n",
        "total = 0\n",
        "\n",
        "with torch.no_grad():\n",
        "    for images, labels in test_loader:\n",
        "        images, labels = images.to(device), labels.to(device)\n",
        "        outputs = model(images)\n",
        "        _, predicted = torch.max(outputs.data, dim=1)\n",
        "        total += labels.size(0)\n",
        "        correct += (predicted == labels).sum().item()\n",
        "\n",
        "print(f\"Test Accuracy: {(100 * correct / total)} %%\")"
      ],
      "metadata": {
        "id": "lmALMkQJ-QZE",
        "colab": {
          "base_uri": "https://localhost:8080/"
        },
        "outputId": "ae276c36-93c5-4d71-fdc2-b3606f4efa7b"
      },
      "execution_count": null,
      "outputs": [
        {
          "output_type": "stream",
          "name": "stdout",
          "text": [
            "Test Accuracy: 78.87 %%\n"
          ]
        }
      ]
    },
    {
      "cell_type": "markdown",
      "source": [
        "##### kernel dimension = 5*5"
      ],
      "metadata": {
        "id": "9eUuXU9LKGxz"
      }
    },
    {
      "cell_type": "code",
      "source": [
        "model_k5 = CNN(c1=16, c2=32, k=5)\n",
        "\n",
        "# If GPU is available, move the model to GPU\n",
        "device = torch.device(\"cuda\" if torch.cuda.is_available() else \"cpu\")\n",
        "model_k5.to(device)"
      ],
      "metadata": {
        "colab": {
          "base_uri": "https://localhost:8080/"
        },
        "id": "Ypuo4yfLKFIG",
        "outputId": "5cee867d-eca1-460e-fe73-9ca381af5f31"
      },
      "execution_count": null,
      "outputs": [
        {
          "output_type": "execute_result",
          "data": {
            "text/plain": [
              "CNN(\n",
              "  (conv_layer1): Conv2d(1, 16, kernel_size=(5, 5), stride=(1, 1))\n",
              "  (conv_layer2): Conv2d(16, 32, kernel_size=(5, 5), stride=(1, 1))\n",
              "  (pool): MaxPool2d(kernel_size=2, stride=2, padding=0, dilation=1, ceil_mode=False)\n",
              "  (full_layer1): Linear(in_features=512, out_features=128, bias=True)\n",
              "  (full_layer2): Linear(in_features=128, out_features=128, bias=True)\n",
              "  (output_layer): Linear(in_features=128, out_features=10, bias=True)\n",
              ")"
            ]
          },
          "metadata": {},
          "execution_count": 17
        }
      ]
    },
    {
      "cell_type": "code",
      "source": [
        "loss_func = nn.CrossEntropyLoss()  \n",
        "optimizer = torch.optim.SGD(model_k5.parameters(), lr=1e-3, momentum=0.9)\n",
        "\n",
        "losses = []\n",
        "for epoch in range(5):\n",
        "    epoch_loss = []\n",
        "\n",
        "    # Iterate over data\n",
        "    for batch_idx, (images, labels) in enumerate(train_loader):  \n",
        "      #move tensor to the same device (CPU/GPU) as the model\n",
        "      images, labels = images.to(device), labels.to(device)\n",
        "      \n",
        "      # Zero the parameter gradients\n",
        "      optimizer.zero_grad()  \n",
        "      \n",
        "      # forward + loss calc + backward + step\n",
        "      outputs = model_k5(images)\n",
        "      loss = loss_func(outputs, labels)\n",
        "      loss.backward()\n",
        "      optimizer.step()\n",
        "\n",
        "      if batch_idx % 500 == 0:\n",
        "        print(f\"Epoch: {epoch+1}, Loss: {loss.item():.4f}\")\n",
        "\n",
        "      epoch_loss.append(loss.item())\n",
        "    losses.append(np.mean(epoch_loss))\n"
      ],
      "metadata": {
        "colab": {
          "base_uri": "https://localhost:8080/"
        },
        "id": "vyd2IJYrKNAy",
        "outputId": "d40a423c-e592-4f6e-e2ab-9afe095dadc3"
      },
      "execution_count": null,
      "outputs": [
        {
          "output_type": "stream",
          "name": "stdout",
          "text": [
            "Epoch: 1, Loss: 2.3019\n",
            "Epoch: 1, Loss: 2.2803\n",
            "Epoch: 2, Loss: 2.2660\n",
            "Epoch: 2, Loss: 1.0261\n",
            "Epoch: 3, Loss: 0.9560\n",
            "Epoch: 3, Loss: 0.9258\n",
            "Epoch: 4, Loss: 0.6510\n",
            "Epoch: 4, Loss: 0.7983\n",
            "Epoch: 5, Loss: 0.6734\n",
            "Epoch: 5, Loss: 0.7447\n"
          ]
        }
      ]
    },
    {
      "cell_type": "code",
      "source": [
        "correct = 0\n",
        "total = 0\n",
        "\n",
        "with torch.no_grad():\n",
        "    for images, labels in test_loader:\n",
        "        images, labels = images.to(device), labels.to(device)\n",
        "        outputs = model_k5(images)\n",
        "        _, predicted = torch.max(outputs.data, dim=1)\n",
        "        total += labels.size(0)\n",
        "        correct += (predicted == labels).sum().item()\n",
        "\n",
        "print(f\"Test Accuracy: {(100 * correct / total)} %%\")"
      ],
      "metadata": {
        "colab": {
          "base_uri": "https://localhost:8080/"
        },
        "id": "OMrGHMCdKPRE",
        "outputId": "5b526c3a-4e22-4f45-9f80-3d0da7cba6ee"
      },
      "execution_count": null,
      "outputs": [
        {
          "output_type": "stream",
          "name": "stdout",
          "text": [
            "Test Accuracy: 75.02 %%\n"
          ]
        }
      ]
    },
    {
      "cell_type": "markdown",
      "source": [
        "##### kernel dimension = 2*2"
      ],
      "metadata": {
        "id": "3MQM3lyYOgFd"
      }
    },
    {
      "cell_type": "code",
      "source": [
        "# kernel size = 2\n",
        "model_k2 = CNN(c1=16, c2=32, k=2)\n",
        "\n",
        "# If GPU is available, move the model to GPU\n",
        "device = torch.device(\"cuda\" if torch.cuda.is_available() else \"cpu\")\n",
        "model_k2.to(device)"
      ],
      "metadata": {
        "colab": {
          "base_uri": "https://localhost:8080/"
        },
        "id": "VGVVbL0PN3_7",
        "outputId": "ca12447e-1434-4611-819c-5ed894f96e4c"
      },
      "execution_count": null,
      "outputs": [
        {
          "output_type": "execute_result",
          "data": {
            "text/plain": [
              "CNN(\n",
              "  (conv_layer1): Conv2d(1, 16, kernel_size=(2, 2), stride=(1, 1))\n",
              "  (conv_layer2): Conv2d(16, 32, kernel_size=(2, 2), stride=(1, 1))\n",
              "  (pool): MaxPool2d(kernel_size=2, stride=2, padding=0, dilation=1, ceil_mode=False)\n",
              "  (full_layer1): Linear(in_features=1152, out_features=128, bias=True)\n",
              "  (full_layer2): Linear(in_features=128, out_features=128, bias=True)\n",
              "  (output_layer): Linear(in_features=128, out_features=10, bias=True)\n",
              ")"
            ]
          },
          "metadata": {},
          "execution_count": 20
        }
      ]
    },
    {
      "cell_type": "code",
      "source": [
        "loss_func = nn.CrossEntropyLoss()  \n",
        "optimizer = torch.optim.SGD(model_k2.parameters(), lr=1e-3, momentum=0.9)\n",
        "\n",
        "losses = []\n",
        "for epoch in range(5):\n",
        "    epoch_loss = []\n",
        "\n",
        "    # Iterate over data\n",
        "    for batch_idx, (images, labels) in enumerate(train_loader):  \n",
        "      #move tensor to the same device (CPU/GPU) as the model\n",
        "      images, labels = images.to(device), labels.to(device)\n",
        "      \n",
        "      # Zero the parameter gradients\n",
        "      optimizer.zero_grad()  \n",
        "      \n",
        "      # forward + loss calc + backward + step\n",
        "      outputs = model_k2(images)\n",
        "      loss = loss_func(outputs, labels)\n",
        "      loss.backward()\n",
        "      optimizer.step()\n",
        "\n",
        "      if batch_idx % 500 == 0:\n",
        "        print(f\"Epoch: {epoch+1}, Loss: {loss.item():.4f}\")\n",
        "\n",
        "      epoch_loss.append(loss.item())\n",
        "    losses.append(np.mean(epoch_loss))"
      ],
      "metadata": {
        "colab": {
          "base_uri": "https://localhost:8080/"
        },
        "id": "uy8XCjK_ODZG",
        "outputId": "0b710a19-89de-4eac-97bc-b425e2401904"
      },
      "execution_count": null,
      "outputs": [
        {
          "output_type": "stream",
          "name": "stdout",
          "text": [
            "Epoch: 1, Loss: 2.3099\n",
            "Epoch: 1, Loss: 2.2664\n",
            "Epoch: 2, Loss: 2.2458\n",
            "Epoch: 2, Loss: 1.2034\n",
            "Epoch: 3, Loss: 0.8960\n",
            "Epoch: 3, Loss: 0.7210\n",
            "Epoch: 4, Loss: 0.6802\n",
            "Epoch: 4, Loss: 0.6441\n",
            "Epoch: 5, Loss: 0.6208\n",
            "Epoch: 5, Loss: 0.5640\n"
          ]
        }
      ]
    },
    {
      "cell_type": "code",
      "source": [
        "correct = 0\n",
        "total = 0\n",
        "\n",
        "with torch.no_grad():\n",
        "    for images, labels in test_loader:\n",
        "        images, labels = images.to(device), labels.to(device)\n",
        "        outputs = model_k2(images)\n",
        "        _, predicted = torch.max(outputs.data, dim=1)\n",
        "        total += labels.size(0)\n",
        "        correct += (predicted == labels).sum().item()\n",
        "\n",
        "print(f\"Test Accuracy: {(100 * correct / total)} %%\")"
      ],
      "metadata": {
        "colab": {
          "base_uri": "https://localhost:8080/"
        },
        "id": "KftqwMqrOJwW",
        "outputId": "5e044786-3c7e-497d-918c-2eae56ffe0d5"
      },
      "execution_count": null,
      "outputs": [
        {
          "output_type": "stream",
          "name": "stdout",
          "text": [
            "Test Accuracy: 76.48 %%\n"
          ]
        }
      ]
    },
    {
      "cell_type": "markdown",
      "source": [
        "##### kernel size = 3*3, first output channel size = 32, second output chnnel size = 64"
      ],
      "metadata": {
        "id": "C8hJI0VfPfZ6"
      }
    },
    {
      "cell_type": "code",
      "source": [
        "# default kernel size (3)\n",
        "model = CNN(c1=32, c2=64)\n",
        "\n",
        "# If GPU is available, move the model to GPU\n",
        "device = torch.device(\"cuda\" if torch.cuda.is_available() else \"cpu\")\n",
        "model.to(device)"
      ],
      "metadata": {
        "colab": {
          "base_uri": "https://localhost:8080/"
        },
        "id": "IxGZkTcNP2lm",
        "outputId": "9f5cb1c7-b91d-486d-c40a-843d71cbe2d5"
      },
      "execution_count": null,
      "outputs": [
        {
          "output_type": "execute_result",
          "data": {
            "text/plain": [
              "CNN(\n",
              "  (conv_layer1): Conv2d(1, 32, kernel_size=(3, 3), stride=(1, 1))\n",
              "  (conv_layer2): Conv2d(32, 64, kernel_size=(3, 3), stride=(1, 1))\n",
              "  (pool): MaxPool2d(kernel_size=2, stride=2, padding=0, dilation=1, ceil_mode=False)\n",
              "  (full_layer1): Linear(in_features=1600, out_features=128, bias=True)\n",
              "  (full_layer2): Linear(in_features=128, out_features=128, bias=True)\n",
              "  (output_layer): Linear(in_features=128, out_features=10, bias=True)\n",
              ")"
            ]
          },
          "metadata": {},
          "execution_count": 23
        }
      ]
    },
    {
      "cell_type": "code",
      "source": [
        "loss_func = nn.CrossEntropyLoss()  \n",
        "optimizer = torch.optim.SGD(model.parameters(), lr=1e-3, momentum=0.9)\n",
        "\n",
        "losses = []\n",
        "for epoch in range(5):\n",
        "    epoch_loss = []\n",
        "\n",
        "    # Iterate over data\n",
        "    for batch_idx, (images, labels) in enumerate(train_loader):  \n",
        "      #move tensor to the same device (CPU/GPU) as the model\n",
        "      images, labels = images.to(device), labels.to(device)\n",
        "      \n",
        "      # Zero the parameter gradients\n",
        "      optimizer.zero_grad()  \n",
        "      \n",
        "      # forward + loss calc + backward + step\n",
        "      outputs = model(images)\n",
        "      loss = loss_func(outputs, labels)\n",
        "      loss.backward()\n",
        "      optimizer.step()\n",
        "\n",
        "      if batch_idx % 500 == 0:\n",
        "        print(f\"Epoch: {epoch+1}, Loss: {loss.item():.4f}\")\n",
        "\n",
        "      epoch_loss.append(loss.item())\n",
        "    losses.append(np.mean(epoch_loss))\n"
      ],
      "metadata": {
        "colab": {
          "base_uri": "https://localhost:8080/"
        },
        "outputId": "531a6620-2f1a-41c5-8f24-453b86c8a24a",
        "id": "oHD7qL-TP2ln"
      },
      "execution_count": null,
      "outputs": [
        {
          "output_type": "stream",
          "name": "stdout",
          "text": [
            "Epoch: 1, Loss: 2.3057\n",
            "Epoch: 1, Loss: 1.1546\n",
            "Epoch: 2, Loss: 1.0527\n",
            "Epoch: 2, Loss: 0.7910\n",
            "Epoch: 3, Loss: 0.9383\n",
            "Epoch: 3, Loss: 0.7108\n",
            "Epoch: 4, Loss: 0.7136\n",
            "Epoch: 4, Loss: 0.7302\n",
            "Epoch: 5, Loss: 0.9032\n",
            "Epoch: 5, Loss: 0.6492\n"
          ]
        }
      ]
    },
    {
      "cell_type": "code",
      "source": [
        "correct = 0\n",
        "total = 0\n",
        "\n",
        "with torch.no_grad():\n",
        "    for images, labels in test_loader:\n",
        "        images, labels = images.to(device), labels.to(device)\n",
        "        outputs = model(images)\n",
        "        _, predicted = torch.max(outputs.data, dim=1)\n",
        "        total += labels.size(0)\n",
        "        correct += (predicted == labels).sum().item()\n",
        "\n",
        "print(f\"Test Accuracy: {(100 * correct / total)} %%\")"
      ],
      "metadata": {
        "colab": {
          "base_uri": "https://localhost:8080/"
        },
        "outputId": "cbefa830-2be4-469a-87cf-be6c50d5bc12",
        "id": "f8c9iBowP2lo"
      },
      "execution_count": null,
      "outputs": [
        {
          "output_type": "stream",
          "name": "stdout",
          "text": [
            "Test Accuracy: 75.28 %%\n"
          ]
        }
      ]
    },
    {
      "cell_type": "markdown",
      "source": [
        "#### final model: k=3, c1=16, c2=32\n",
        "trained with more epochs"
      ],
      "metadata": {
        "id": "T0rwvmKfRIK2"
      }
    },
    {
      "cell_type": "code",
      "source": [
        "model = CNN(c1=16, c2=32)\n",
        "\n",
        "# If GPU is available, move the model to GPU\n",
        "device = torch.device(\"cuda\" if torch.cuda.is_available() else \"cpu\")\n",
        "model.to(device)"
      ],
      "metadata": {
        "colab": {
          "base_uri": "https://localhost:8080/"
        },
        "id": "Lu79Yv3kRo6j",
        "outputId": "f3105fd9-b37e-4193-dfba-fa2f9e65e751"
      },
      "execution_count": null,
      "outputs": [
        {
          "output_type": "execute_result",
          "data": {
            "text/plain": [
              "CNN(\n",
              "  (conv_layer1): Conv2d(1, 16, kernel_size=(3, 3), stride=(1, 1))\n",
              "  (conv_layer2): Conv2d(16, 32, kernel_size=(3, 3), stride=(1, 1))\n",
              "  (pool): MaxPool2d(kernel_size=2, stride=2, padding=0, dilation=1, ceil_mode=False)\n",
              "  (full_layer1): Linear(in_features=800, out_features=128, bias=True)\n",
              "  (full_layer2): Linear(in_features=128, out_features=128, bias=True)\n",
              "  (output_layer): Linear(in_features=128, out_features=10, bias=True)\n",
              ")"
            ]
          },
          "metadata": {},
          "execution_count": 27
        }
      ]
    },
    {
      "cell_type": "code",
      "source": [
        "loss_func = nn.CrossEntropyLoss()  \n",
        "optimizer = torch.optim.SGD(model.parameters(), lr=1e-3, momentum=0.9)\n",
        "\n",
        "losses = []\n",
        "for epoch in range(30):\n",
        "    epoch_loss = []\n",
        "\n",
        "    # Iterate over data\n",
        "    for batch_idx, (images, labels) in enumerate(train_loader):  \n",
        "      #move tensor to the same device (CPU/GPU) as the model\n",
        "      images, labels = images.to(device), labels.to(device)\n",
        "      \n",
        "      # Zero the parameter gradients\n",
        "      optimizer.zero_grad()  \n",
        "      \n",
        "      # forward + loss calc + backward + step\n",
        "      outputs = model(images)\n",
        "      loss = loss_func(outputs, labels)\n",
        "      loss.backward()\n",
        "      optimizer.step()\n",
        "\n",
        "      if batch_idx % 500 == 0:\n",
        "        print(f\"Epoch: {epoch+1}, Loss: {loss.item():.4f}\")\n",
        "\n",
        "      epoch_loss.append(loss.item())\n",
        "    losses.append(np.mean(epoch_loss))\n"
      ],
      "metadata": {
        "colab": {
          "base_uri": "https://localhost:8080/"
        },
        "outputId": "b53d37a2-e5d1-40ae-cdae-78a60688ffd4",
        "id": "qcLEjkBJRo6l"
      },
      "execution_count": null,
      "outputs": [
        {
          "output_type": "stream",
          "name": "stdout",
          "text": [
            "Epoch: 1, Loss: 2.2994\n",
            "Epoch: 1, Loss: 1.5105\n",
            "Epoch: 2, Loss: 1.0035\n",
            "Epoch: 2, Loss: 0.7402\n",
            "Epoch: 3, Loss: 0.7996\n",
            "Epoch: 3, Loss: 0.6796\n",
            "Epoch: 4, Loss: 0.6392\n",
            "Epoch: 4, Loss: 0.7595\n",
            "Epoch: 5, Loss: 0.5221\n",
            "Epoch: 5, Loss: 0.5559\n",
            "Epoch: 6, Loss: 0.6046\n",
            "Epoch: 6, Loss: 0.6544\n",
            "Epoch: 7, Loss: 0.5378\n",
            "Epoch: 7, Loss: 0.4796\n",
            "Epoch: 8, Loss: 0.6640\n",
            "Epoch: 8, Loss: 0.3995\n",
            "Epoch: 9, Loss: 0.3938\n",
            "Epoch: 9, Loss: 0.5254\n",
            "Epoch: 10, Loss: 0.3543\n",
            "Epoch: 10, Loss: 0.4720\n",
            "Epoch: 11, Loss: 0.4560\n",
            "Epoch: 11, Loss: 0.4496\n",
            "Epoch: 12, Loss: 0.4857\n",
            "Epoch: 12, Loss: 0.4600\n",
            "Epoch: 13, Loss: 0.3056\n",
            "Epoch: 13, Loss: 0.5286\n",
            "Epoch: 14, Loss: 0.3794\n",
            "Epoch: 14, Loss: 0.2774\n",
            "Epoch: 15, Loss: 0.4666\n",
            "Epoch: 15, Loss: 0.3763\n",
            "Epoch: 16, Loss: 0.4200\n",
            "Epoch: 16, Loss: 0.3577\n",
            "Epoch: 17, Loss: 0.3824\n",
            "Epoch: 17, Loss: 0.3483\n",
            "Epoch: 18, Loss: 0.4331\n",
            "Epoch: 18, Loss: 0.3391\n",
            "Epoch: 19, Loss: 0.2397\n",
            "Epoch: 19, Loss: 0.3441\n",
            "Epoch: 20, Loss: 0.3426\n",
            "Epoch: 20, Loss: 0.5181\n",
            "Epoch: 21, Loss: 0.4046\n",
            "Epoch: 21, Loss: 0.3849\n",
            "Epoch: 22, Loss: 0.2611\n",
            "Epoch: 22, Loss: 0.4859\n",
            "Epoch: 23, Loss: 0.4000\n",
            "Epoch: 23, Loss: 0.4529\n",
            "Epoch: 24, Loss: 0.3416\n",
            "Epoch: 24, Loss: 0.3569\n",
            "Epoch: 25, Loss: 0.2958\n",
            "Epoch: 25, Loss: 0.3448\n",
            "Epoch: 26, Loss: 0.3926\n",
            "Epoch: 26, Loss: 0.3043\n",
            "Epoch: 27, Loss: 0.4223\n",
            "Epoch: 27, Loss: 0.4095\n",
            "Epoch: 28, Loss: 0.2671\n",
            "Epoch: 28, Loss: 0.3178\n",
            "Epoch: 29, Loss: 0.2627\n",
            "Epoch: 29, Loss: 0.3375\n",
            "Epoch: 30, Loss: 0.3806\n",
            "Epoch: 30, Loss: 0.2526\n"
          ]
        }
      ]
    },
    {
      "cell_type": "code",
      "source": [
        "correct = 0\n",
        "total = 0\n",
        "\n",
        "with torch.no_grad():\n",
        "    for images, labels in test_loader:\n",
        "        images, labels = images.to(device), labels.to(device)\n",
        "        outputs = model(images)\n",
        "        _, predicted = torch.max(outputs.data, dim=1)\n",
        "        total += labels.size(0)\n",
        "        correct += (predicted == labels).sum().item()\n",
        "\n",
        "print(f\"Test Accuracy: {(100 * correct / total)} %%\")"
      ],
      "metadata": {
        "colab": {
          "base_uri": "https://localhost:8080/"
        },
        "outputId": "f6f87da8-c56a-45f5-f004-51badead4109",
        "id": "k0uQgJzqRo6m"
      },
      "execution_count": null,
      "outputs": [
        {
          "output_type": "stream",
          "name": "stdout",
          "text": [
            "Test Accuracy: 87.03 %%\n"
          ]
        }
      ]
    },
    {
      "cell_type": "markdown",
      "source": [
        "###Question 6"
      ],
      "metadata": {
        "id": "MeqhJpgDUcaK"
      }
    },
    {
      "cell_type": "markdown",
      "source": [
        "try other normalization methods"
      ],
      "metadata": {
        "id": "RiL87_TU9WX_"
      }
    },
    {
      "cell_type": "markdown",
      "source": [
        "ReLu, 1 hidden layer, PCA"
      ],
      "metadata": {
        "id": "lxiwyY8y9yRk"
      }
    },
    {
      "cell_type": "code",
      "source": [
        "# plot\n",
        "model = MLP(actFunc='relu', numHLayer=1, M=[128])\n",
        "optimizer = GradientDescent(learning_rate=.05, max_iters=50)\n",
        "epochs = 30\n",
        "\n",
        "x = list(range(1, epochs+1))\n",
        "\n",
        "accuracies = model.mini_train_plot(x_train_PCA_reduced, y_train, x_test_PCA_reduced, y_test, optimizer, epoch=epochs, batch_size=2000)\n",
        "y = accuracies[0,:].tolist() # train\n",
        "y2 = accuracies[1,:].tolist() # test\n",
        "\n",
        "fig, ax = plt.subplots()\n",
        "\n",
        "ax.plot(x, y, label=\"train\")\n",
        "ax.plot(x, y2, label=\"test\")\n",
        "ax.legend()\n",
        "ax.set_ylabel('accuracy')\n",
        "ax.set_xlabel('epoch')\n",
        "ax.set_title('Model Performance as Function of Epoch')\n",
        "plt.show()"
      ],
      "metadata": {
        "colab": {
          "base_uri": "https://localhost:8080/",
          "height": 295
        },
        "id": "E0lWz7U_9xFb",
        "outputId": "5c1f50c8-0896-4631-969e-46258f1126eb"
      },
      "execution_count": null,
      "outputs": [
        {
          "output_type": "display_data",
          "data": {
            "text/plain": [
              "<Figure size 432x288 with 1 Axes>"
            ],
            "image/png": "[encoded data removed]"
          },
          "metadata": {
            "needs_background": "light"
          }
        }
      ]
    },
    {
      "cell_type": "code",
      "source": [
        "model = MLP(actFunc='relu', numHLayer=1, M=[128])\n",
        "optimizer = GradientDescent(learning_rate=.1, max_iters=50)\n",
        "model.mini_train(x_train_PCA_reduced, y_train, optimizer, epoch=3, batch_size=2000)\n",
        "yh = model.predict(x_test_PCA_reduced)\n",
        "evaluate_acc(y_test, yh)"
      ],
      "metadata": {
        "colab": {
          "base_uri": "https://localhost:8080/"
        },
        "id": "2w7XdOiEVyi5",
        "outputId": "d745f0f1-fb4b-459b-ef9d-3781a2a2c1e4"
      },
      "execution_count": null,
      "outputs": [
        {
          "output_type": "execute_result",
          "data": {
            "text/plain": [
              "0.7782"
            ]
          },
          "metadata": {},
          "execution_count": 37
        }
      ]
    },
    {
      "cell_type": "markdown",
      "source": [
        "ReLu, 1 hidden layer, whitening"
      ],
      "metadata": {
        "id": "AycxElZQAW7C"
      }
    },
    {
      "cell_type": "code",
      "source": [
        "# plot\n",
        "model = MLP(actFunc='relu', numHLayer=1, M=[128])\n",
        "optimizer = GradientDescent(learning_rate=.05, max_iters=50)\n",
        "epochs = 30\n",
        "\n",
        "x = list(range(1, epochs+1))\n",
        "\n",
        "accuracies = model.mini_train_plot(x_train_white, y_train, x_test_white, y_test, optimizer, epoch=epochs, batch_size=2000)\n",
        "y = accuracies[0,:].tolist() # train\n",
        "y2 = accuracies[1,:].tolist() # test\n",
        "\n",
        "fig, ax = plt.subplots()\n",
        "\n",
        "ax.plot(x, y, label=\"train\")\n",
        "ax.plot(x, y2, label=\"test\")\n",
        "ax.legend()\n",
        "ax.set_ylabel('accuracy')\n",
        "ax.set_xlabel('epoch')\n",
        "ax.set_title('Model Performance as Function of Epoch')\n",
        "plt.show()"
      ],
      "metadata": {
        "colab": {
          "base_uri": "https://localhost:8080/",
          "height": 295
        },
        "id": "DfB9O45tAaov",
        "outputId": "91872c14-55d5-4e90-b046-0afb9b173880"
      },
      "execution_count": null,
      "outputs": [
        {
          "output_type": "display_data",
          "data": {
            "text/plain": [
              "<Figure size 432x288 with 1 Axes>"
            ],
            "image/png": "[encoded data removed]"
          },
          "metadata": {
            "needs_background": "light"
          }
        }
      ]
    },
    {
      "cell_type": "markdown",
      "source": [
        "try different numbers of hidden units (with more epochs and smaller batch size)"
      ],
      "metadata": {
        "id": "r_eiSAr1BK8d"
      }
    },
    {
      "cell_type": "code",
      "source": [
        "for i in range(4):\n",
        "  model1 = MLP(actFunc='relu', numHLayer=1, M=[(i+1)*64])\n",
        "  optimizer = GradientDescent(learning_rate=.1, max_iters=50)\n",
        "  model1.mini_train(x_train_zero_centred, y_train, optimizer, epoch=200, batch_size=400)\n",
        "  yh = model1.predict(x_test_zero_centred)\n",
        "  print(\"%d hidden units: accuracy = %f\" %((i+1)*64, evaluate_acc(y_test, yh)))"
      ],
      "metadata": {
        "colab": {
          "base_uri": "https://localhost:8080/"
        },
        "id": "ql_-Ql4hYZmj",
        "outputId": "a319c5b1-d5c0-4393-c8e1-f838ff7a9a54"
      },
      "execution_count": null,
      "outputs": [
        {
          "output_type": "stream",
          "name": "stdout",
          "text": [
            "64 hidden units: accuracy = 0.863800\n",
            "128 hidden units: accuracy = 0.886100\n",
            "192 hidden units: accuracy = 0.890000\n",
            "256 hidden units: accuracy = 0.890600\n"
          ]
        }
      ]
    }
  ]
}